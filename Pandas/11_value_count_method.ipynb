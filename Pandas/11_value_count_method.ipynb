{
 "cells": [
  {
   "cell_type": "code",
   "execution_count": 11,
   "metadata": {},
   "outputs": [
    {
     "data": {
      "text/plain": [
       "parental level of education\n",
       "some college          0.23\n",
       "associate's degree    0.22\n",
       "high school           0.20\n",
       "some high school      0.18\n",
       "bachelor's degree     0.12\n",
       "master's degree       0.06\n",
       "Name: proportion, dtype: float64"
      ]
     },
     "execution_count": 11,
     "metadata": {},
     "output_type": "execute_result"
    }
   ],
   "source": [
    "import pandas as pd\n",
    "\n",
    "# read csv file\n",
    "student_performance_df = pd.read_csv('students_performance.csv')\n",
    "student_performance_df.head()\n",
    "\n",
    "# count elements by category\n",
    "student_performance_df['gender'].value_counts()\n",
    "\n",
    "# count elements by category in relative frequency\n",
    "student_performance_df['gender'].value_counts(normalize=True).round(2)\n",
    "student_performance_df['parental level of education'].value_counts(normalize=True).round(2)"
   ]
  }
 ],
 "metadata": {
  "kernelspec": {
   "display_name": "base",
   "language": "python",
   "name": "python3"
  },
  "language_info": {
   "codemirror_mode": {
    "name": "ipython",
    "version": 3
   },
   "file_extension": ".py",
   "mimetype": "text/x-python",
   "name": "python",
   "nbconvert_exporter": "python",
   "pygments_lexer": "ipython3",
   "version": "3.11.5"
  }
 },
 "nbformat": 4,
 "nbformat_minor": 2
}
