{
 "cells": [
  {
   "cell_type": "code",
   "execution_count": 12,
   "metadata": {},
   "outputs": [
    {
     "data": {
      "text/plain": [
       "gender                         object\n",
       "race/ethnicity                 object\n",
       "parental level of education    object\n",
       "lunch                          object\n",
       "test preparation course        object\n",
       "math score                      int64\n",
       "reading score                   int64\n",
       "writing score                   int64\n",
       "dtype: object"
      ]
     },
     "execution_count": 12,
     "metadata": {},
     "output_type": "execute_result"
    }
   ],
   "source": [
    "import pandas as pd\n",
    "\n",
    "# read csv file\n",
    "student_performance_df = pd.read_csv('students_performance.csv')\n",
    "student_performance_df\n",
    "\n",
    "# get shape attribute\n",
    "student_performance_df.shape\n",
    "\n",
    "# get index attribute\n",
    "student_performance_df.index\n",
    "\n",
    "# get column attribute\n",
    "student_performance_df.columns\n",
    "\n",
    "# get datatypes of the columns\n",
    "student_performance_df.dtypes\n",
    "\n",
    "# get dataframe information\n",
    "student_performance_df.info()\n",
    "\n",
    "# get statistical information for the dataframe\n",
    "student_performance_df.describe()"
   ]
  }
 ],
 "metadata": {
  "kernelspec": {
   "display_name": "base",
   "language": "python",
   "name": "python3"
  },
  "language_info": {
   "codemirror_mode": {
    "name": "ipython",
    "version": 3
   },
   "file_extension": ".py",
   "mimetype": "text/x-python",
   "name": "python",
   "nbconvert_exporter": "python",
   "pygments_lexer": "ipython3",
   "version": "3.11.5"
  }
 },
 "nbformat": 4,
 "nbformat_minor": 2
}
