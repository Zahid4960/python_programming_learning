{
 "cells": [
  {
   "cell_type": "code",
   "execution_count": 8,
   "metadata": {},
   "outputs": [
    {
     "data": {
      "text/plain": [
       "0      female\n",
       "1      female\n",
       "2      female\n",
       "3        male\n",
       "4        male\n",
       "        ...  \n",
       "995    female\n",
       "996      male\n",
       "997    female\n",
       "998    female\n",
       "999    female\n",
       "Name: gender, Length: 1000, dtype: object"
      ]
     },
     "execution_count": 8,
     "metadata": {},
     "output_type": "execute_result"
    }
   ],
   "source": [
    "import pandas as pd\n",
    "\n",
    "# read csv file\n",
    "student_performance_df = pd.read_csv('students_performance.csv')\n",
    "student_performance_df\n",
    "\n",
    "# select any column from a dataframe\n",
    "student_performance_df['gender']\n",
    "\n",
    "# check datatypes of the selected column\n",
    "type(student_performance_df['gender'])\n",
    "\n",
    "# get attributes and methods of the selected column\n",
    "student_performance_df['gender'].index\n",
    "\n",
    "# select a column with a .\n",
    "student_performance_df.gender\n",
    "\n",
    "# pitfall of the selction with .\n",
    "# student_performance_df.['math score'] => will provide error\n",
    "# student_performance_df.math score => will provide error\n",
    "# student_performance_df.math_score => will provide error"
   ]
  }
 ],
 "metadata": {
  "kernelspec": {
   "display_name": "base",
   "language": "python",
   "name": "python3"
  },
  "language_info": {
   "codemirror_mode": {
    "name": "ipython",
    "version": 3
   },
   "file_extension": ".py",
   "mimetype": "text/x-python",
   "name": "python",
   "nbconvert_exporter": "python",
   "pygments_lexer": "ipython3",
   "version": "3.11.5"
  }
 },
 "nbformat": 4,
 "nbformat_minor": 2
}
